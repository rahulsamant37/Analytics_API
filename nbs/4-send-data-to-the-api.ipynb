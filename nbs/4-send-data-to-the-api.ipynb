{
 "cells": [
  {
   "cell_type": "code",
   "execution_count": 1,
   "id": "52c43536",
   "metadata": {},
   "outputs": [],
   "source": [
    "import requests"
   ]
  },
  {
   "cell_type": "code",
   "execution_count": 7,
   "metadata": {},
   "outputs": [
    {
     "data": {
      "text/plain": [
       "'http://localhost:8002/api/events/'"
      ]
     },
     "execution_count": 7,
     "metadata": {},
     "output_type": "execute_result"
    }
   ],
   "source": [
    "path = \"/api/events/\"\n",
    "base_url = \"http://localhost:8002\" # 127.0.0.1\n",
    "endpoint = f\"{base_url}{path}\"\n",
    "endpoint"
   ]
  },
  {
   "cell_type": "code",
   "execution_count": 13,
   "id": "c3b2744f",
   "metadata": {},
   "outputs": [],
   "source": [
    "import json\n",
    "data = {\"page\": \"/test+\"}\n",
    "data = json.dumps(data)"
   ]
  },
  {
   "cell_type": "code",
   "execution_count": 15,
   "id": "eafa8885",
   "metadata": {},
   "outputs": [
    {
     "name": "stdout",
     "output_type": "stream",
     "text": [
      "{'date': 'Wed, 11 Jun 2025 00:09:55 GMT', 'server': 'uvicorn', 'content-length': '124', 'content-type': 'application/json'}\n",
      "ok False\n",
      "{\"detail\":[{\"type\":\"json_invalid\",\"loc\":[\"body\",0],\"msg\":\"JSON decode error\",\"input\":{},\"ctx\":{\"error\":\"Expecting value\"}}]}\n"
     ]
    }
   ],
   "source": [
    "headers = {\n",
    "    'Content-Type': 'application/json',\n",
    "    'Accept': 'application/json',\n",
    "}\n",
    "response = requests.post(endpoint, data=data, headers=headers) # HTTP POST\n",
    "print(response.headers)\n",
    "print('ok', response.ok)\n",
    "if response.ok:\n",
    "    data = response.json()\n",
    "    print(data, type(data), data.get('items'))\n",
    "else:\n",
    "    print(response.text)"
   ]
  },
  {
   "cell_type": "code",
   "execution_count": null,
   "metadata": {},
   "outputs": [],
   "source": []
  },
  {
   "cell_type": "code",
   "execution_count": null,
   "id": "f4c8853e",
   "metadata": {},
   "outputs": [],
   "source": []
  }
 ],
 "metadata": {
  "kernelspec": {
   "display_name": "Python 3",
   "language": "python",
   "name": "python3"
  },
  "language_info": {
   "codemirror_mode": {
    "name": "ipython",
    "version": 3
   },
   "file_extension": ".py",
   "mimetype": "text/x-python",
   "name": "python",
   "nbconvert_exporter": "python",
   "pygments_lexer": "ipython3",
   "version": "3.12.1"
  }
 },
 "nbformat": 4,
 "nbformat_minor": 5
}
